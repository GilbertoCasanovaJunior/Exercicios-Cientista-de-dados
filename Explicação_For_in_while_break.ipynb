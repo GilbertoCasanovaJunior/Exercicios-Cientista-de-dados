{
  "nbformat": 4,
  "nbformat_minor": 0,
  "metadata": {
    "colab": {
      "provenance": [],
      "authorship_tag": "ABX9TyNUSUqg3KwGZewT0pCSmhNZ",
      "include_colab_link": true
    },
    "kernelspec": {
      "name": "python3",
      "display_name": "Python 3"
    },
    "language_info": {
      "name": "python"
    }
  },
  "cells": [
    {
      "cell_type": "markdown",
      "metadata": {
        "id": "view-in-github",
        "colab_type": "text"
      },
      "source": [
        "<a href=\"https://colab.research.google.com/github/GilbertoCasanovaJunior/Exercicios-Cientista-de-dados/blob/main/Explica%C3%A7%C3%A3o_For_in_while_break.ipynb\" target=\"_parent\"><img src=\"https://colab.research.google.com/assets/colab-badge.svg\" alt=\"Open In Colab\"/></a>"
      ]
    },
    {
      "cell_type": "code",
      "execution_count": 4,
      "metadata": {
        "colab": {
          "base_uri": "https://localhost:8080/"
        },
        "id": "z8im8J9IVvtw",
        "outputId": "73cc0a44-082a-4c56-d834-cd1bb38dcbd0"
      },
      "outputs": [
        {
          "output_type": "stream",
          "name": "stdout",
          "text": [
            "Ler página\n",
            "Ler página\n",
            "Ler página\n",
            "Ler página\n",
            "Ler página\n",
            "Ler página\n",
            "Ler página\n",
            "Ler página\n",
            "Ler página\n",
            "Ler página\n",
            "Ler página\n",
            "Ler página\n",
            "Ler página\n",
            "Ler página\n",
            "Ler página\n",
            "Ler página\n",
            "Fim\n"
          ]
        }
      ],
      "source": [
        "\n",
        "for i in range(1,20+1):\n",
        "  print('Ler página')\n",
        "print('Fim')"
      ]
    },
    {
      "cell_type": "code",
      "source": [
        "for i in range(0,6,2):\n",
        "  print('i = {} Ler a página'.format(i))\n",
        "print('Fim')"
      ],
      "metadata": {
        "colab": {
          "base_uri": "https://localhost:8080/"
        },
        "id": "CMqizUj3bleM",
        "outputId": "2e5b8b38-32c7-4151-a2b6-e8f57d43c8a7"
      },
      "execution_count": 14,
      "outputs": [
        {
          "output_type": "stream",
          "name": "stdout",
          "text": [
            "i = 0 Ler a página\n",
            "i = 2 Ler a página\n",
            "i = 4 Ler a página\n",
            "Fim\n"
          ]
        }
      ]
    },
    {
      "cell_type": "code",
      "source": [
        "soma = 0\n",
        "for i in range(0,-19+1,-2):\n",
        "  soma = soma + i\n",
        "  print('i = {} e soma = {}'.format(i,soma))\n",
        "print('soma = {}'.format(soma))"
      ],
      "metadata": {
        "colab": {
          "base_uri": "https://localhost:8080/"
        },
        "id": "TkI6uEK_eibb",
        "outputId": "3122c41f-5bbc-4bf8-bd3d-281b6749bf78"
      },
      "execution_count": 17,
      "outputs": [
        {
          "output_type": "stream",
          "name": "stdout",
          "text": [
            "i = 0 e soma = 0\n",
            "i = -2 e soma = -2\n",
            "i = -4 e soma = -6\n",
            "i = -6 e soma = -12\n",
            "i = -8 e soma = -20\n",
            "i = -10 e soma = -30\n",
            "i = -12 e soma = -42\n",
            "i = -14 e soma = -56\n",
            "i = -16 e soma = -72\n",
            "soma = -72\n"
          ]
        }
      ]
    },
    {
      "cell_type": "code",
      "source": [
        "soma = 0\n",
        "for i in range(1,3+1):\n",
        "  n= int(input('Digite um número:'))\n",
        "  soma = soma + n\n",
        "  print('n = {} e soma = {}'.format(n,soma))\n",
        "print('soma = {}'.format(soma))"
      ],
      "metadata": {
        "colab": {
          "base_uri": "https://localhost:8080/"
        },
        "id": "O2nJqgzKgJAf",
        "outputId": "f8605e9f-206b-455b-c132-198e936bcb0e"
      },
      "execution_count": 23,
      "outputs": [
        {
          "output_type": "stream",
          "name": "stdout",
          "text": [
            "Digite um número:3\n",
            "n = 3 e soma = 3\n",
            "Digite um número:1\n",
            "n = 1 e soma = 4\n",
            "Digite um número:1\n",
            "n = 1 e soma = 5\n",
            "soma = 5\n"
          ]
        }
      ]
    },
    {
      "cell_type": "code",
      "source": [
        "fim = 'n'\n",
        "while fim == 'n':\n",
        "  print('Ler pagina')\n",
        "  fim = input('Terminou? (s/n) ')\n",
        "print('Fim')"
      ],
      "metadata": {
        "colab": {
          "base_uri": "https://localhost:8080/"
        },
        "id": "MnhWQnyeiQcm",
        "outputId": "8d0108db-f823-4e4a-9026-b179f13d4e0f"
      },
      "execution_count": 28,
      "outputs": [
        {
          "output_type": "stream",
          "name": "stdout",
          "text": [
            "Ler pagina\n",
            "Terminou? (s/n) n\n",
            "Ler pagina\n",
            "Terminou? (s/n) n\n",
            "Ler pagina\n",
            "Terminou? (s/n) n\n",
            "Ler pagina\n",
            "Terminou? (s/n) s\n",
            "Fim\n"
          ]
        }
      ]
    },
    {
      "cell_type": "code",
      "source": [
        "soma = 0\n",
        "while soma < 20:\n",
        "  n = float(input('Digite um número:'))\n",
        "  soma += n\n",
        "print('a soma final foi de {:.2f}'.format(soma))\n"
      ],
      "metadata": {
        "colab": {
          "base_uri": "https://localhost:8080/"
        },
        "id": "QH0qrMQTj_wD",
        "outputId": "de4f44b8-5e00-486e-c37e-4c16ae5d95d6"
      },
      "execution_count": 32,
      "outputs": [
        {
          "output_type": "stream",
          "name": "stdout",
          "text": [
            "Digite um número:1\n",
            "Digite um número:5\n",
            "Digite um número:6\n",
            "Digite um número:8\n",
            "a soma final foi de 20.00\n"
          ]
        }
      ]
    },
    {
      "cell_type": "code",
      "source": [
        "soma = 0\n",
        "while True:\n",
        "  n = float(input('Digite um numero:' ))\n",
        "  soma += n\n",
        "  continua = input('Quer continuar (s/n):')\n",
        "  if continua == 'n':\n",
        "    break\n",
        "print('a soma final foi de {:.2f}'.format(soma))"
      ],
      "metadata": {
        "colab": {
          "base_uri": "https://localhost:8080/"
        },
        "id": "0QUrtPmdlz1o",
        "outputId": "9c7e26e6-5e7c-4f37-9a71-832972a17edd"
      },
      "execution_count": 34,
      "outputs": [
        {
          "output_type": "stream",
          "name": "stdout",
          "text": [
            "Digite um numero:1\n",
            "Quer continuar (s/n):n\n",
            "a soma final foi de 1.00\n"
          ]
        }
      ]
    }
  ]
}