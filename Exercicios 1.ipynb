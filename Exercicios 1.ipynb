{
  "nbformat": 4,
  "nbformat_minor": 0,
  "metadata": {
    "colab": {
      "provenance": [],
      "collapsed_sections": [],
      "authorship_tag": "ABX9TyPOs3BKOIAhopnCFH8SDb65",
      "include_colab_link": true
    },
    "kernelspec": {
      "name": "python3",
      "display_name": "Python 3"
    },
    "language_info": {
      "name": "python"
    }
  },
  "cells": [
    {
      "cell_type": "markdown",
      "metadata": {
        "id": "view-in-github",
        "colab_type": "text"
      },
      "source": [
        "<a href=\"https://colab.research.google.com/github/GilbertoCasanovaJunior/Exercicios-Cientista-de-dados/blob/main/Exercicios%201.ipynb\" target=\"_parent\"><img src=\"https://colab.research.google.com/assets/colab-badge.svg\" alt=\"Open In Colab\"/></a>"
      ]
    },
    {
      "cell_type": "code",
      "execution_count": null,
      "metadata": {
        "colab": {
          "base_uri": "https://localhost:8080/"
        },
        "id": "kgGW6fOLTfDx",
        "outputId": "c75d727b-fce9-4a6d-9ce2-ff44fc6c8559"
      },
      "outputs": [
        {
          "output_type": "stream",
          "name": "stdout",
          "text": [
            "Qual é seu nome:Gilberto\n",
            "Qual é seu ano de nascimento?1990\n",
            "Gilberto você tem 32 anos e pode consumir bebida alcóolica.\n"
          ]
        }
      ],
      "source": [
        "# Programa distribuidora de bebidas alcoolicas apenas para maiores de 18 anos.\n",
        "nome = input('Qual é seu nome:')\n",
        "anoNasc = int(input('Qual é seu ano de nascimento?'))\n",
        "ano = 2022 - anoNasc\n",
        "\n",
        "if ano >= 18:\n",
        "  print('{} você tem {} anos e pode consumir bebida alcóolica.'.format(nome,ano))\n",
        "elif ano < 18:\n",
        "  print('{} você tem {} anos e não pode consumir bebida alcóolica.'.format(nome,ano))"
      ]
    },
    {
      "cell_type": "code",
      "source": [
        "# Programa para saber a média de notas\n",
        "prova1 = float(input('Qual sua nota na primeira prova:'))\n",
        "prova2 = float(input('Qual sua nota na segunda prova:'))\n",
        "prova3 = float(input('Qual sua nota na terceira prova:'))\n",
        "media = (prova1+prova2+prova3) / 3\n",
        "\n",
        "\n",
        "if media >= 8:\n",
        "  print('Aprovado')\n",
        "elif media < 8:\n",
        "  print('Reprovado')\n",
        "  \n",
        "print('FIM')"
      ],
      "metadata": {
        "colab": {
          "base_uri": "https://localhost:8080/"
        },
        "id": "-FZ9yLjIa3fB",
        "outputId": "fdee0210-c062-47e0-ae08-6e99b062f919"
      },
      "execution_count": null,
      "outputs": [
        {
          "output_type": "stream",
          "name": "stdout",
          "text": [
            "Qual sua nota na primeira prova:10\n",
            "Qual sua nota na segunda prova:5\n",
            "Qual sua nota na terceira prova:5\n",
            "6.666666666666667\n",
            "Reprovado\n",
            "FIM\n"
          ]
        }
      ]
    },
    {
      "cell_type": "code",
      "source": [
        "# Programa de verificar altura par ou impar\n",
        "altura = float(input('Qual é a altura?'))\n",
        "\n",
        "if altura%2 == 0:\n",
        "  print('Par')\n",
        "elif altura%2 == 1:\n",
        "  print('Impar')\n",
        "\n",
        "print('fim')\n"
      ],
      "metadata": {
        "colab": {
          "base_uri": "https://localhost:8080/"
        },
        "id": "pjUFiszneUfP",
        "outputId": "79a5df04-3a41-4d80-bbbf-def5fad66f72"
      },
      "execution_count": null,
      "outputs": [
        {
          "output_type": "stream",
          "name": "stdout",
          "text": [
            "Qual é a altura?513\n",
            "Impar\n",
            "fim\n"
          ]
        }
      ]
    },
    {
      "cell_type": "code",
      "source": [
        "dia = int(input('Digite um dia:'))\n",
        "ano = 365\n",
        "trimestre1 = ano / 4\n",
        "trimestre2 = ano / 3\n",
        "trimestre3 = ano / 2\n",
        "trimestre4 = ano / 1\n",
        "\n",
        "if dia <= trimestre1:\n",
        "  print('1 trimestre do ano')\n",
        "elif dia <= trimestre2:\n",
        "  print(' 2 trimestre do ano')\n",
        "elif dia <= trimestre3:\n",
        "  print(' 3 trimestre do ano')\n",
        "elif dia <= trimestre4:\n",
        "  print(' 4 trimestre do ano')\n",
        "\n",
        "print('FIM')\n"
      ],
      "metadata": {
        "colab": {
          "base_uri": "https://localhost:8080/"
        },
        "id": "xK7gfpgugWjN",
        "outputId": "436620d0-4115-48a3-b26d-d0779a92febd"
      },
      "execution_count": null,
      "outputs": [
        {
          "output_type": "stream",
          "name": "stdout",
          "text": [
            "Digite um dia:50\n",
            "1 trimestre do ano\n",
            "FIM\n"
          ]
        }
      ]
    },
    {
      "cell_type": "code",
      "source": [
        "\n",
        "# Desenvolva um sistema que leia 3 números e diga qual é o maior.\n",
        "num1 = int(input('Digite um numero:'))\n",
        "num2 = int(input('Digite um numero:'))\n",
        "num3 = int(input('Digite um numero:'))\n",
        "\n",
        "if num1 > num2 and num3:\n",
        "  print('A var num1 que é {} é o numero maior'.format(num1))\n",
        "elif num2 > num1 and num3:\n",
        "  print('A var num2 que é {} é o numero maior'.format(num2))\n",
        "elif num3 > num1 and num2:\n",
        "  print('A var num3 que é {} é o numero maior'.format(num3))\n",
        "\n",
        "print('Fim')\n",
        "\n"
      ],
      "metadata": {
        "colab": {
          "base_uri": "https://localhost:8080/"
        },
        "id": "nloOSyyHlMro",
        "outputId": "6770020b-3ede-4ab8-ff9c-05a46cbb96dd"
      },
      "execution_count": null,
      "outputs": [
        {
          "output_type": "stream",
          "name": "stdout",
          "text": [
            "Digite um numero:100\n",
            "Digite um numero:100\n",
            "Digite um numero:200\n",
            "A var num3 que é 200 é o numero maior\n",
            "Fim\n"
          ]
        }
      ]
    }
  ]
}